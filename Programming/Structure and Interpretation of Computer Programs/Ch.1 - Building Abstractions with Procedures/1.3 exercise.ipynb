{
 "metadata": {
  "language_info": {
   "codemirror_mode": {
    "name": "ipython",
    "version": 3
   },
   "file_extension": ".py",
   "mimetype": "text/x-python",
   "name": "python",
   "nbconvert_exporter": "python",
   "pygments_lexer": "ipython3",
   "version": "3.9.0-final"
  },
  "orig_nbformat": 2,
  "kernelspec": {
   "name": "python39064bitbase393ac9c9919de844cfab7e4fd86e0708c5",
   "display_name": "Python 3.9.0 64-bit ('base3.9')"
  }
 },
 "nbformat": 4,
 "nbformat_minor": 2,
 "cells": [
  {
   "source": [
    "product that returns the product of the\n",
    "values of a function at points over a given range. Show how to define factorial in terms of product.\n",
    "Also use product to compute approximations to using the formula"
   ],
   "cell_type": "markdown",
   "metadata": {}
  },
  {
   "cell_type": "code",
   "execution_count": 2,
   "metadata": {},
   "outputs": [
    {
     "output_type": "stream",
     "name": "stdout",
     "text": [
      "0\n"
     ]
    }
   ],
   "source": [
    "def next(a):\n",
    "    return a+1\n",
    "\n",
    "def product(a,b):\n",
    "    \n",
    "def product (a, b):\n",
    "    if a > b:\n",
    "        return 0\n",
    "    else:\n",
    "        return product(a, product(next(a), b))\n",
    "\n",
    "print(product(2,4))\n"
   ]
  }
 ]
}