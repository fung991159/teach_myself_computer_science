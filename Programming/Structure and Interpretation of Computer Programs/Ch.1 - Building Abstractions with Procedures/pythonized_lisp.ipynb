{
 "metadata": {
  "language_info": {
   "codemirror_mode": {
    "name": "ipython",
    "version": 3
   },
   "file_extension": ".py",
   "mimetype": "text/x-python",
   "name": "python",
   "nbconvert_exporter": "python",
   "pygments_lexer": "ipython3",
   "version": "3.8.1-final"
  },
  "orig_nbformat": 2,
  "kernelspec": {
   "name": "python38164bitbaseedd283423e4e46bb9250991e24e51ac2",
   "display_name": "Python 3.8.1 64-bit ('base')"
  }
 },
 "nbformat": 4,
 "nbformat_minor": 2,
 "cells": [
  {
   "cell_type": "code",
   "execution_count": 40,
   "metadata": {
    "tags": []
   },
   "outputs": [
    {
     "output_type": "stream",
     "name": "stdout",
     "text": "{1000: [(1009, 1.430511474609375e-05),\n        (1013, 1.2636184692382812e-05),\n        (1019, 1.2159347534179688e-05)],\n 10000: [(10007, 4.458427429199219e-05),\n         (10009, 4.029273986816406e-05),\n         (10037, 4.0531158447265625e-05)],\n 100000: [(100003, 0.00015687942504882812),\n          (100019, 0.00013208389282226562),\n          (100043, 0.0001308917999267578)],\n 1000000: [(1000003, 0.0007641315460205078),\n           (1000033, 0.0004596710205078125),\n           (1000037, 0.0004649162292480469)]}\n"
    }
   ],
   "source": [
    "import time\n",
    "from pprint import pprint\n",
    "# exercise 1.22\n",
    "def is_prime(n):\n",
    "    return True if n == smallest_divisor(n) else False\n",
    "\n",
    "def time_prime_test(n, quiet=True): \n",
    "    if not quiet:\n",
    "        print('')\n",
    "        print(n)\n",
    "    start_time = time.time()\n",
    "    if is_prime(n):\n",
    "        elapsed_time = time.time() - start_time \n",
    "        if not quiet:\n",
    "            print(' *** ')\n",
    "            print(elapsed_time)\n",
    "        return elapsed_time\n",
    "\n",
    "\n",
    "# find the three smallest primes larger than 1000;\n",
    "# larger than 10,000; \n",
    "# larger than 100,000; \n",
    "# larger than 1,000,000.\n",
    "\n",
    "rng = [1000, 10000, 100000, 1000000]\n",
    "result={}\n",
    "for num in rng:\n",
    "    start_num = num\n",
    "    prime_lst = []\n",
    "    while len(prime_lst) <3:\n",
    "        elapsed_time = time_prime_test(num)\n",
    "        if elapsed_time:\n",
    "            prime_lst.append((num, elapsed_time))\n",
    "        num+=1\n",
    "    result[start_num] = prime_lst\n",
    "\n",
    "pprint(result)\n",
    "        "
   ]
  },
  {
   "cell_type": "code",
   "execution_count": 28,
   "metadata": {
    "tags": []
   },
   "outputs": [
    {
     "output_type": "stream",
     "name": "stdout",
     "text": "199\n1999\n7\n"
    }
   ],
   "source": [
    "# exercise 1.21\n",
    "def smallest_divisor(n, test_divisor=2):\n",
    "    if test_divisor ** 2 > n:\n",
    "        return n\n",
    "    elif n % test_divisor == 0:\n",
    "        return test_divisor\n",
    "    else:\n",
    "        test_divisor += 1\n",
    "        return smallest_divisor(n, test_divisor)\n",
    "\n",
    "print(smallest_divisor(199)) # 199\n",
    "print(smallest_divisor(1999)) # 1999\n",
    "print(smallest_divisor(19999)) # 7"
   ]
  }
 ]
}