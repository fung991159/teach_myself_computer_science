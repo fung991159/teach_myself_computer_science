{
 "metadata": {
  "language_info": {
   "codemirror_mode": {
    "name": "ipython",
    "version": 3
   },
   "file_extension": ".py",
   "mimetype": "text/x-python",
   "name": "python",
   "nbconvert_exporter": "python",
   "pygments_lexer": "ipython3",
   "version": "3.8.1-final"
  },
  "orig_nbformat": 2,
  "kernelspec": {
   "name": "python38164bitbaseedd283423e4e46bb9250991e24e51ac2",
   "display_name": "Python 3.8.1 64-bit ('base')"
  }
 },
 "nbformat": 4,
 "nbformat_minor": 2,
 "cells": [
  {
   "cell_type": "code",
   "execution_count": 1,
   "metadata": {
    "tags": []
   },
   "outputs": [
    {
     "output_type": "stream",
     "name": "stdout",
     "text": [
      "199\n1999\n7\n"
     ]
    }
   ],
   "source": [
    "# exercise 1.21\n",
    "def smallest_divisor(n, test_divisor=2):\n",
    "    if test_divisor ** 2 > n:\n",
    "        return n\n",
    "    elif n % test_divisor == 0:\n",
    "        return test_divisor\n",
    "    else:\n",
    "        test_divisor += 1\n",
    "        return smallest_divisor(n, test_divisor)\n",
    "\n",
    "print(smallest_divisor(199)) # 199\n",
    "print(smallest_divisor(1999)) # 1999\n",
    "print(smallest_divisor(19999)) # 7"
   ]
  },
  {
   "cell_type": "code",
   "execution_count": 2,
   "metadata": {
    "tags": []
   },
   "outputs": [
    {
     "output_type": "stream",
     "name": "stdout",
     "text": [
      "{1000: [(1009, 1.4066696166992188e-05),\n        (1013, 1.2159347534179688e-05),\n        (1019, 1.1920928955078125e-05)],\n 10000: [(10007, 5.0067901611328125e-05),\n         (10009, 3.9577484130859375e-05),\n         (10037, 4.00543212890625e-05)],\n 100000: [(100003, 0.0002079010009765625),\n          (100019, 0.00012993812561035156),\n          (100043, 0.00013780593872070312)],\n 1000000: [(1000003, 0.0008413791656494141),\n           (1000033, 0.0004901885986328125),\n           (1000037, 0.00047779083251953125)]}\n"
     ]
    }
   ],
   "source": [
    "import time\n",
    "from pprint import pprint\n",
    "# exercise 1.22\n",
    "def is_prime(n):\n",
    "    return True if n == smallest_divisor(n) else False\n",
    "\n",
    "\n",
    "def time_prime_test(n, quiet=True): \n",
    "    if not quiet:\n",
    "        print('')\n",
    "        print(n)\n",
    "    start_time = time.time()\n",
    "    if is_prime(n):\n",
    "        elapsed_time = time.time() - start_time \n",
    "        if not quiet:\n",
    "            print(' *** ')\n",
    "            print(elapsed_time)\n",
    "        return elapsed_time\n",
    "\n",
    "\n",
    "# find the three smallest primes larger than 1000;\n",
    "# larger than 10,000; \n",
    "# larger than 100,000; \n",
    "# larger than 1,000,000.\n",
    "\n",
    "rng = [1000, 10000, 100000, 1000000]\n",
    "result={}\n",
    "for num in rng:\n",
    "    start_num = num\n",
    "    prime_lst = []\n",
    "    while len(prime_lst) <3:\n",
    "        elapsed_time = time_prime_test(num)\n",
    "        if elapsed_time:\n",
    "            prime_lst.append((num, elapsed_time))\n",
    "        num+=1\n",
    "    result[start_num] = prime_lst\n",
    "pprint(result)\n",
    "        "
   ]
  },
  {
   "cell_type": "code",
   "execution_count": 3,
   "metadata": {
    "tags": []
   },
   "outputs": [
    {
     "output_type": "stream",
     "name": "stdout",
     "text": [
      "/bin/bash: -c: line 0: unexpected EOF while looking for matching `''\n/bin/bash: -c: line 1: syntax error: unexpected end of file\n"
     ]
    }
   ],
   "source": [
    "# check if order of growth is square root of n\n",
    "# you should expect that testing for primes\n",
    "# around 10,000 should take about\n",
    "#  10 times as long as testing for primes around 1000. Do your timing\n",
    "# data bear this out? How well do the data for 100,000 and 1,000,000 support the n prediction? Is your\n",
    "# result compatible with the notion that programs on your machine run in time proportional to the number of\n",
    "# steps required for the computation?\n",
    "# check if order of growth is square root of n\n",
    "# you should expect that testing for primes\n",
    "# around 10,000 should take about\n",
    "#  10 times as long as testing for primes around 1000. Do your timing\n",
    "# data bear this out? How well do the data for 100,000 and 1,000,000 support the n prediction? Is your\n",
    "# result compatible with the notion that programs on your machine run in time proportional to the number of\n",
    "# steps required for the computation?\n",
    "\n",
    "! it doesn't seem to support 10 times more time is required\n"
   ]
  },
  {
   "source": [
    "def next_divisor(n):\n",
    "    if n == 2:\n",
    "        return 3\n",
    "    else:\n",
    "        return n + 2\n",
    "\n",
    "def modified_smallest_divisor(n, test_divisor=2):\n",
    "    if test_divisor ** 2 > n:\n",
    "        return n\n",
    "    elif n % test_divisor == 0:\n",
    "        return test_divisor\n",
    "    else:\n",
    "        test_divisor = next_divisor(test_divisor)\n",
    "        return modified_smallest_divisor(n, test_divisor)\n",
    "\n",
    "def modified_is_prime(n):\n",
    "    return True if n == modified_smallest_divisor(n) else False\n",
    "\n",
    "rng = [1000, 10000, 100000, 1000000]\n",
    "result={}\n",
    "for num in rng:\n",
    "    start_num = num\n",
    "    prime_lst = []\n",
    "    while len(prime_lst) <3:\n",
    "        elapsed_time = time_prime_test(num)\n",
    "        if elapsed_time:\n",
    "            prime_lst.append((num, elapsed_time))\n",
    "        num+=1\n",
    "    result[start_num] = prime_lst\n",
    "\n",
    "result_1= [x for _,x in result[100000]]\n",
    "result_2 = [x for _,x in result[1000000]]\n",
    "[(y-x)/x*100 for x, y in zip(result_1, result_2)]\n",
    "\n"
   ],
   "cell_type": "code",
   "metadata": {
    "tags": []
   },
   "execution_count": 4,
   "outputs": [
    {
     "output_type": "execute_result",
     "data": {
      "text/plain": [
       "[484.527518172378, 269.9499165275459, 209.95260663507108]"
      ]
     },
     "metadata": {},
     "execution_count": 4
    }
   ]
  },
  {
   "source": [
    "Exercise 1.24. Modify the timed-prime-test procedure of exercise 1.22 to use fast-prime? (the\n",
    "Fermat method), and test each of the 12 primes you found in that exercise. Since the Fermat test has\n",
    "(log n) growth, how would you expect the time to test primes near 1,000,000 to compare with the time\n",
    "needed to test primes near 1000? Do your data bear this out? Can you explain any discrepancy you find?\n"
   ],
   "cell_type": "markdown",
   "metadata": {}
  },
  {
   "cell_type": "code",
   "execution_count": 36,
   "metadata": {},
   "outputs": [
    {
     "output_type": "stream",
     "name": "stdout",
     "text": [
      "10\n1\n"
     ]
    },
    {
     "output_type": "execute_result",
     "data": {
      "text/plain": [
       "False"
      ]
     },
     "metadata": {},
     "execution_count": 36
    }
   ],
   "source": [
    "def expmod(base, exp, m):\n",
    "    if exp == 0:\n",
    "        return 1\n",
    "    elif exp % 2 == 0:\n",
    "        return (\n",
    "            (expmod(base, exp/2, m))**2\n",
    "            % m\n",
    "        )\n",
    "    else:\n",
    "        return (\n",
    "            (base * (expmod(base, exp-1, m)))\n",
    "            % m \n",
    "            )\n",
    "\n",
    "from random import randrange\n",
    "def fermat_test(n):\n",
    "    def try_it(a):\n",
    "        return a == expmod(a, n, n)\n",
    "    print(randrange(1, n-1))\n",
    "    try_it(1 + randrange(1, n-1))\n",
    "\n",
    "def fast_prime(n, times):\n",
    "    if times == 0: \n",
    "        return True\n",
    "    elif fermat_test(n):\n",
    "        return fast_prime(n, times-1)\n",
    "    else:\n",
    "        return False\n",
    "\n"
   ]
  },
  {
   "source": [
    "Exercise 1.25. Alyssa P. Hacker complains that we went to a lot of extra work in writing expmod. After\n",
    "all, she says, since we already know how to compute exponentials, we could have simply written\n",
    "(define (expmod base exp m)\n",
    "    (remainder (fast-expt base exp) m))\n"
   ],
   "cell_type": "markdown",
   "metadata": {}
  },
  {
   "source": [
    ">> because even and and odd number treat \"exp\" parameter differently when calling it recurivesly."
   ],
   "cell_type": "markdown",
   "metadata": {}
  },
  {
   "source": [
    "Exercise 1.26. Louis Reasoner is having great difficulty doing exercise 1.24. His fast-prime? test\n",
    "seems to run more slowly than his prime? test. Louis calls his friend Eva Lu Ator over to help. When\n",
    "they examine Louis's code, they find that he has rewritten the expmod procedure to use an explicit\n",
    "multiplication, rather than calling square:\n",
    "(define (expmod base exp m)\n",
    "    (cond ((= exp 0) 1)\n",
    "    ((even? exp)\n",
    "        (remainder (* (expmod base (/ exp 2) m)\n",
    "        (expmod base (/ exp 2) m))\n",
    "        m))\n",
    "    (else\n",
    "        (remainder (* base (expmod base (- exp 1) m))\n",
    "        m))))\n",
    "``I don't see what difference that could make,'' says Louis. ``I do.'' says Eva. ``By writing the procedure\n",
    "like that, you have transformed the (log n) process into a (n) process.'' Explain."
   ],
   "cell_type": "markdown",
   "metadata": {}
  },
  {
   "source": [
    "Lisp is applicative order, by NOT using square(), the section \"(expmod base (/ exp 2) m)\" will need to be evaluated twice (recurisvely!!!). "
   ],
   "cell_type": "markdown",
   "metadata": {}
  },
  {
   "source": [
    "Exercise 1.27. Demonstrate that the Carmichael numbers listed in footnote 47 really do fool the Fermat\n",
    "test. That is, write a procedure that takes an integer n and tests whether an is congruent to a modulo n for\n",
    "every a<n, and try your procedure on the given Carmichael numbers.\n"
   ],
   "cell_type": "markdown",
   "metadata": {}
  },
  {
   "cell_type": "code",
   "execution_count": 42,
   "metadata": {},
   "outputs": [
    {
     "output_type": "stream",
     "name": "stdout",
     "text": [
      "True\nTrue\nTrue\nTrue\nTrue\nTrue\nTrue\nTrue\nTrue\n"
     ]
    }
   ],
   "source": [
    "def test_congruent(n):\n",
    "    if n <= 0:\n",
    "        return False\n",
    "    else:\n",
    "        a = n -1\n",
    "        if n**a%n == a%n:\n",
    "            return True\n",
    "        else:\n",
    "           return test_congruent(n-1) \n",
    "\n",
    "for i in range(1, 10):\n",
    "    print(test_congruent(i))\n"
   ]
  }
 ]
}